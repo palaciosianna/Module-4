{
 "cells": [
  {
   "cell_type": "code",
   "execution_count": 5,
   "id": "084215a4",
   "metadata": {},
   "outputs": [
    {
     "name": "stdout",
     "output_type": "stream",
     "text": [
      "Enter first number: 5\n",
      "Enter second number: 5\n",
      "Enter third number: 5\n",
      "The average of numbers =  5.0\n"
     ]
    }
   ],
   "source": [
    "def three_number_average(a, b, c):   \n",
    "    average = (a + b + c)/3   \n",
    "    return average    \n",
    "\n",
    "a = int(input('Enter first number: '))\n",
    "b = int(input('Enter second number: '))\n",
    "c = int(input('Enter third number: '))\n",
    "\n",
    "average = three_number_average(a, b, c)\n",
    "\n",
    "print('The average of numbers = ',average)"
   ]
  },
  {
   "cell_type": "code",
   "execution_count": null,
   "id": "81c74833",
   "metadata": {},
   "outputs": [],
   "source": []
  }
 ],
 "metadata": {
  "kernelspec": {
   "display_name": "Python 3 (ipykernel)",
   "language": "python",
   "name": "python3"
  },
  "language_info": {
   "codemirror_mode": {
    "name": "ipython",
    "version": 3
   },
   "file_extension": ".py",
   "mimetype": "text/x-python",
   "name": "python",
   "nbconvert_exporter": "python",
   "pygments_lexer": "ipython3",
   "version": "3.9.7"
  }
 },
 "nbformat": 4,
 "nbformat_minor": 5
}
