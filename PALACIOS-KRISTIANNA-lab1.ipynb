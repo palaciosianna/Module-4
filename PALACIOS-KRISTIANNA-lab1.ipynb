{
 "cells": [
  {
   "cell_type": "code",
   "execution_count": 4,
   "id": "910f06f5",
   "metadata": {},
   "outputs": [
    {
     "name": "stdout",
     "output_type": "stream",
     "text": [
      "Enter the amount in US Dollars:1\n",
      "1  US dollar(s) = 50  Philippine pesos.\n"
     ]
    }
   ],
   "source": [
    "def dollars_to_pesos(dollar):\n",
    "    pesos = dollar*50\n",
    "    return pesos\n",
    "dollar = int(input(\"Enter the amount in US Dollars:\"))\n",
    "pesos = dollars_to_pesos(dollar)\n",
    "print( dollar, \" US dollar(s) =\", pesos, \" Philippine pesos.\")"
   ]
  },
  {
   "cell_type": "code",
   "execution_count": 7,
   "id": "ff7ae737",
   "metadata": {},
   "outputs": [],
   "source": [
    "def add(x,y):\n",
    "    a = x+y\n",
    "    return a\n",
    "def sub(x,y):\n",
    "    b = x-y\n",
    "    return b\n",
    "def mul(x,y):\n",
    "    c = x*y\n",
    "    return c\n",
    "def div(x,y):\n",
    "    c = x/y\n",
    "    return c\n",
    "def per(x,y):\n",
    "    c = x%y\n",
    "    return c"
   ]
  },
  {
   "cell_type": "code",
   "execution_count": 12,
   "id": "f0259585",
   "metadata": {},
   "outputs": [
    {
     "name": "stdout",
     "output_type": "stream",
     "text": [
      "cm = 180\n",
      "kg = 65\n",
      "20.061728395061728\n"
     ]
    }
   ],
   "source": [
    "def bmi(kg,cm):\n",
    "    body_mass_index = kg/((cm/100)**2)\n",
    "    \n",
    "    return body_mass_index\n",
    "\n",
    "    #inputvalues\n",
    "cm = int(input(\"cm = \"))\n",
    "kg = int(input(\"kg = \" ))\n",
    "body_mass_index = bmi(kg,cm)\n",
    "print(body_mass_index)"
   ]
  },
  {
   "cell_type": "code",
   "execution_count": null,
   "id": "5d8a669a",
   "metadata": {},
   "outputs": [],
   "source": []
  }
 ],
 "metadata": {
  "kernelspec": {
   "display_name": "Python 3 (ipykernel)",
   "language": "python",
   "name": "python3"
  },
  "language_info": {
   "codemirror_mode": {
    "name": "ipython",
    "version": 3
   },
   "file_extension": ".py",
   "mimetype": "text/x-python",
   "name": "python",
   "nbconvert_exporter": "python",
   "pygments_lexer": "ipython3",
   "version": "3.9.7"
  }
 },
 "nbformat": 4,
 "nbformat_minor": 5
}
