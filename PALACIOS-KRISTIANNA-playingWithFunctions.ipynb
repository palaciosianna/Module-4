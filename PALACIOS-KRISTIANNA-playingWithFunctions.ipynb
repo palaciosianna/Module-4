{
 "cells": [
  {
   "cell_type": "code",
   "execution_count": 4,
   "id": "ffd84b92",
   "metadata": {},
   "outputs": [],
   "source": [
    "def problem_1(number):\n",
    "    if number < 0:\n",
    "        return 0\n",
    "    elif number == 0 or number == 1:\n",
    "        return 1\n",
    "    else:\n",
    "        factorial = 1\n",
    "        while(number > 1):\n",
    "            factorial *= number\n",
    "            number -= 1\n",
    "        return factorial"
   ]
  },
  {
   "cell_type": "code",
   "execution_count": null,
   "id": "dcc29f41",
   "metadata": {},
   "outputs": [],
   "source": []
  },
  {
   "cell_type": "code",
   "execution_count": 10,
   "id": "6a2e7a04",
   "metadata": {},
   "outputs": [],
   "source": [
    "def problem_2(passphrase):\n",
    "\n",
    "    for x in range(3):\n",
    "      answer = input(\"passphrase: \")\n",
    "      if(answer == passphrase):\n",
    "        return(1)\n",
    "\n",
    "      elif(answer != passphrase):\n",
    "            None\n",
    "\n",
    "    return(0)"
   ]
  },
  {
   "cell_type": "code",
   "execution_count": 18,
   "id": "9c053520",
   "metadata": {},
   "outputs": [],
   "source": [
    "def problem_3(temp, original_format, new_format):\n",
    "\n",
    "    if original_format == \"Celsius\" and new_format == \"Fahrenheit\":\n",
    "        new_value = ((temp * 1.8 )+ 32)\n",
    "\n",
    "    elif original_format == \"Celsius\" and new_format == \"Kelvin\":\n",
    "        new_value = (temp + 273.15)\n",
    "\n",
    "    elif original_format == \"Fahrenheit\" and new_format == \"Celsius\":\n",
    "        new_value = (temp - 32) * 5/9\n",
    "\n",
    "    elif original_format == \"Fahrenheit\" and new_format == \"Kelvin\":\n",
    "        new_value = ((temp - 32) * 5/9) + 273.15\n",
    "\n",
    "    elif original_format == \"Kelvin\" and new_format == \"Celsius\":\n",
    "        new_value = (temp - 273.15)\n",
    "\n",
    "    else:\n",
    "        new_value = ((temp - 273.15) * 9/5) + 32\n",
    "\n",
    "    new_value = \"{:.4f}\".format(new_value)\n",
    "\n",
    "    return new_value"
   ]
  },
  {
   "cell_type": "code",
   "execution_count": 40,
   "id": "4c23eae9",
   "metadata": {},
   "outputs": [],
   "source": [
    "def problem_4(amount):\n",
    "\n",
    "  num_p = 0\n",
    "  num_25 = 0\n",
    "  num_10 = 0\n",
    "  num_5 = 0\n",
    "  num_1 = 0\n",
    "\n",
    "  if amount <= 0:\n",
    "\n",
    "    print(\"1P:0/25C:0/10C:0/5C:0/1C:0\")\n",
    "    \n",
    "\n",
    "  else:\n",
    "\n",
    "    num_p = amount // 100\n",
    "\n",
    "    amount %= 100\n",
    "\n",
    "    num_25 = amount // 25\n",
    "\n",
    "    amount %= 25\n",
    "\n",
    "    num_10 = amount // 10\n",
    "\n",
    "    amount %= 10\n",
    "\n",
    "    num_5 = amount // 5\n",
    "\n",
    "    amount %= 5\n",
    "\n",
    "    num_1 = amount\n",
    "\n",
    "    print (\"1P:{0}/25C:{1}/10C:{2}/5C:{3}/1C:{4}\".format(num_p, num_25, num_10, num_5, num_1))"
   ]
  },
  {
   "cell_type": "code",
   "execution_count": 45,
   "id": "19ac7995",
   "metadata": {
    "scrolled": true
   },
   "outputs": [],
   "source": [
    "def problem_5(message):\n",
    "    output = ''\n",
    "    for i in message:\n",
    "        if ord(i) >= 65 and ord(i) <= 90:\n",
    "            i = chr(ord(i)+32)\n",
    "        elif ord(i) == 32:\n",
    "            None\n",
    "        else:\n",
    "            i = chr(ord(i)-32)\n",
    "        output = output + i\n",
    "\n",
    "    return(output)"
   ]
  },
  {
   "cell_type": "code",
   "execution_count": null,
   "id": "14e9748a",
   "metadata": {},
   "outputs": [],
   "source": []
  },
  {
   "cell_type": "code",
   "execution_count": null,
   "id": "55bafadd",
   "metadata": {},
   "outputs": [],
   "source": []
  }
 ],
 "metadata": {
  "kernelspec": {
   "display_name": "Python 3 (ipykernel)",
   "language": "python",
   "name": "python3"
  },
  "language_info": {
   "codemirror_mode": {
    "name": "ipython",
    "version": 3
   },
   "file_extension": ".py",
   "mimetype": "text/x-python",
   "name": "python",
   "nbconvert_exporter": "python",
   "pygments_lexer": "ipython3",
   "version": "3.9.7"
  }
 },
 "nbformat": 4,
 "nbformat_minor": 5
}
