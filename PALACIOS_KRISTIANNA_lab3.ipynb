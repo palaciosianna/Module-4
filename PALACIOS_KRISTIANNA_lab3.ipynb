{
 "cells": [
  {
   "cell_type": "code",
   "execution_count": 2,
   "id": "79953ad7",
   "metadata": {},
   "outputs": [],
   "source": [
    "def problem_1(message, shift):\n",
    "    word_one = ''\n",
    "    for i in message:\n",
    "        if ord(i) >= 65 and ord(i) <= 90:\n",
    "            i = chr((ord(i) + shift - 65) % 26 + 65)\n",
    "            if ord(i) == 32:\n",
    "                None\n",
    "        word_one = word_one + i\n",
    "\n",
    "        \n",
    "    return(word_one)"
   ]
  },
  {
   "cell_type": "code",
   "execution_count": 4,
   "id": "fca4eb1a",
   "metadata": {},
   "outputs": [
    {
     "data": {
      "text/plain": [
       "'DWWDFN DW GDZQ'"
      ]
     },
     "execution_count": 4,
     "metadata": {},
     "output_type": "execute_result"
    }
   ],
   "source": [
    "problem_1(\"ATTACK AT DAWN\",3)"
   ]
  },
  {
   "cell_type": "code",
   "execution_count": 6,
   "id": "8ace7190",
   "metadata": {},
   "outputs": [],
   "source": [
    "social_graph = {\n",
    "    \"@bongolpoc\":{\"first_name\":\"Joselito\",\n",
    "                  \"last_name\":\"Olpoc\",\n",
    "                  \"following\":[\n",
    "                  ]\n",
    "    },\n",
    "    \"@joaquin\":  {\"first_name\":\"Joaquin\",\n",
    "                  \"last_name\":\"Gonzales\",\n",
    "                  \"following\":[\n",
    "                      \"@chums\",\"@jobenilagan\"\n",
    "                  ]\n",
    "    },\n",
    "    \"@chums\" : {\"first_name\":\"Matthew\",\n",
    "                \"last_name\":\"Uy\",\n",
    "                \"following\":[\n",
    "                    \"@bongolpoc\",\"@miketan\",\"@rudyang\",\"@joeilagan\"\n",
    "                ]\n",
    "    },\n",
    "    \"@jobenilagan\":{\"first_name\":\"Joben\",\n",
    "                   \"last_name\":\"Ilagan\",\n",
    "                   \"following\":[\n",
    "                    \"@eeebeee\",\"@joeilagan\",\"@chums\",\"@joaquin\"\n",
    "                   ]\n",
    "    },\n",
    "    \"@joeilagan\":{\"first_name\":\"Joe\",\n",
    "                  \"last_name\":\"Ilagan\",\n",
    "                  \"following\":[\n",
    "                    \"@eeebeee\",\"@jobenilagan\",\"@chums\"\n",
    "                  ]\n",
    "    },\n",
    "    \"@eeebeee\":  {\"first_name\":\"Elizabeth\",\n",
    "                  \"last_name\":\"Ilagan\",\n",
    "                  \"following\":[\n",
    "                    \"@jobenilagan\",\"@joeilagan\"\n",
    "                  ]\n",
    "    },\n",
    "}\n",
    "\n",
    "def relationship_status(from_member,to_member,social_graph):\n",
    "    \n",
    "    status = \"\"   \n",
    "    if to_member in social_graph[from_member][\"following\"] and from_member in social_graph[to_member][\"following\"]:\n",
    "        status = \"friends\"\n",
    "        \n",
    "    elif to_member in social_graph[from_member][\"following\"]:\n",
    "        status = \"follower\"\n",
    "        \n",
    "    elif from_member in social_graph[to_member][\"following\"]:\n",
    "        status = \"followed by\"\n",
    "    else:\n",
    "        status = \"None\"\n",
    "        \n",
    "    return(status)"
   ]
  },
  {
   "cell_type": "code",
   "execution_count": 11,
   "id": "2f8933e7",
   "metadata": {},
   "outputs": [
    {
     "data": {
      "text/plain": [
       "'friends'"
      ]
     },
     "execution_count": 11,
     "metadata": {},
     "output_type": "execute_result"
    }
   ],
   "source": [
    "relationship_status(\"@joeilagan\",\"@jobenilagan\",social_graph)"
   ]
  },
  {
   "cell_type": "code",
   "execution_count": 20,
   "id": "632a4b4d",
   "metadata": {},
   "outputs": [],
   "source": [
    "board1 = [\n",
    "['X','X','O'],\n",
    "['O','X','O'],\n",
    "['O','','X'],\n",
    "]\n",
    "\n",
    "board2 = [\n",
    "['X','X','O'],\n",
    "['O','X','O'],\n",
    "['','O','X'],\n",
    "]\n",
    "\n",
    "board3 = [\n",
    "['O','X','O'],\n",
    "['','O','X'],\n",
    "['X','X','O'],\n",
    "]\n",
    "\n",
    "board4 = [\n",
    "['X','X','X'],\n",
    "['O','X','O'],\n",
    "['O','','O'],\n",
    "]\n",
    "\n",
    "board5 = [\n",
    "['X','X','O'],\n",
    "['O','X','O'],\n",
    "['X','','O'],\n",
    "]\n",
    "\n",
    "board6 = [\n",
    "['X','X','O'],\n",
    "['O','X','O'],\n",
    "['X','',''],\n",
    "]\n",
    "\n",
    "def tic_tac_toe(board):\n",
    "         \n",
    "    winner = \"\"    \n",
    "    \n",
    "    board_size = len(board)\n",
    "    \n",
    "    while winner == \"\":\n",
    "\n",
    "        for row in board:\n",
    "            if all(move == \"X\" for move in row):\n",
    "                winner = \"X\"\n",
    "            elif all(move == \"O\" for move in row):\n",
    "                winner = \"O\"\n",
    "        if winner == \"X\" or winner == \"O\":\n",
    "            break\n",
    "            \n",
    "        for h in range(board_size):\n",
    "            if all(move == \"X\" for move in (list(board[i][h] for i in range(board_size)))):\n",
    "                winner = \"X\"\n",
    "            elif all(move == \"O\" for move in (list(board[i][h] for i in range(board_size)))):\n",
    "                winner = \"O\"\n",
    "        if winner == \"X\" or winner == \"O\":\n",
    "            break\n",
    "        \n",
    "        if all(move == \"X\" for move in (list(board[i][i] for i in range(board_size)))) or all(move == \"X\" for move in (list(board[board_size - 1 - i][i] for i in range(board_size)))):\n",
    "            winner = \"X\"\n",
    "        elif all(move == \"O\" for move in (list(board[i][i] for i in range(board_size)))) or all(move == \"O\" for move in (list(board[board_size - 1 - i][i] for i in range(board_size)))):\n",
    "            winner = \"O\"\n",
    "        if winner == \"X\" or winner == \"O\":\n",
    "            break\n",
    "            \n",
    "       \n",
    "        winner = \"None\"\n",
    "    \n",
    "    return(winner)\n",
    "    \n"
   ]
  },
  {
   "cell_type": "code",
   "execution_count": 32,
   "id": "73f9ed22",
   "metadata": {},
   "outputs": [
    {
     "data": {
      "text/plain": [
       "'O'"
      ]
     },
     "execution_count": 32,
     "metadata": {},
     "output_type": "execute_result"
    }
   ],
   "source": [
    "tic_tac_toe(board5)"
   ]
  },
  {
   "cell_type": "code",
   "execution_count": 31,
   "id": "3e30f16f",
   "metadata": {},
   "outputs": [],
   "source": [
    "legs = {\n",
    "     (\"upd\",\"admu\"):{\n",
    "         \"travel_time_mins\":10\n",
    "     },\n",
    "     (\"admu\",\"dlsu\"):{\n",
    "         \"travel_time_mins\":35\n",
    "     },\n",
    "     (\"dlsu\",\"upd\"):{\n",
    "         \"travel_time_mins\":55\n",
    "     }\n",
    "}\n",
    "\n",
    "def eta(legs,source,destination):\n",
    "    mins = 0\n",
    "    i = True\n",
    "    \n",
    "    while i == True:\n",
    "        for key in legs:\n",
    "            cleg = key[0]\n",
    "            nleg = key[1]\n",
    "            tt = legs[key][\"travel_time_mins\"]\n",
    "            \n",
    "            if cleg == source:\n",
    "                source = nleg\n",
    "                mins += tt\n",
    "            if source == destination:\n",
    "                i = False\n",
    "                break\n",
    "                \n",
    "    return mins"
   ]
  },
  {
   "cell_type": "code",
   "execution_count": 28,
   "id": "3d63d46f",
   "metadata": {},
   "outputs": [
    {
     "data": {
      "text/plain": [
       "10"
      ]
     },
     "execution_count": 28,
     "metadata": {},
     "output_type": "execute_result"
    }
   ],
   "source": [
    "eta(legs,\"upd\",\"admu\")"
   ]
  },
  {
   "cell_type": "code",
   "execution_count": null,
   "id": "a95ace17",
   "metadata": {},
   "outputs": [],
   "source": []
  }
 ],
 "metadata": {
  "kernelspec": {
   "display_name": "Python 3 (ipykernel)",
   "language": "python",
   "name": "python3"
  },
  "language_info": {
   "codemirror_mode": {
    "name": "ipython",
    "version": 3
   },
   "file_extension": ".py",
   "mimetype": "text/x-python",
   "name": "python",
   "nbconvert_exporter": "python",
   "pygments_lexer": "ipython3",
   "version": "3.9.7"
  }
 },
 "nbformat": 4,
 "nbformat_minor": 5
}
